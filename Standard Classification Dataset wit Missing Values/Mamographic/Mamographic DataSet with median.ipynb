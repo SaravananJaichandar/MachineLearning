{
 "cells": [
  {
   "cell_type": "code",
   "execution_count": 1,
   "metadata": {},
   "outputs": [
    {
     "name": "stdout",
     "output_type": "stream",
     "text": [
      "     BI-RADS   Age  Shape  Margin  Density  Severity\n",
      "956      4.0  47.0    2.0     1.0      3.0         0\n",
      "957      4.0  56.0    4.0     5.0      3.0         1\n",
      "958      4.0  64.0    4.0     5.0      3.0         0\n",
      "959      5.0  66.0    4.0     5.0      3.0         1\n",
      "960      4.0  62.0    3.0     3.0      3.0         0\n"
     ]
    }
   ],
   "source": [
    "import pandas as pd\n",
    "import numpy as np\n",
    "import matplotlib.pyplot as plt\n",
    "\n",
    "file = pd.read_csv(\"mamographic.csv\",sep=',', na_values=[\"?\"])\n",
    "print(file.tail())"
   ]
  },
  {
   "cell_type": "code",
   "execution_count": 2,
   "metadata": {},
   "outputs": [
    {
     "data": {
      "text/plain": [
       "True"
      ]
     },
     "execution_count": 2,
     "metadata": {},
     "output_type": "execute_result"
    }
   ],
   "source": [
    "file.isnull().values.any()"
   ]
  },
  {
   "cell_type": "code",
   "execution_count": 4,
   "metadata": {
    "collapsed": true
   },
   "outputs": [],
   "source": [
    "file['BI-RADS'].fillna(file['BI-RADS'].median(),inplace=True)\n",
    "file['Age'].fillna(file['Age'].median(),inplace=True)\n",
    "file['Shape'].fillna(file['Shape'].median(),inplace=True)\n",
    "file['Margin'].fillna(file['Margin'].median(),inplace=True)\n",
    "file['Density'].fillna(file['Density'].median(),inplace=True)"
   ]
  },
  {
   "cell_type": "code",
   "execution_count": 5,
   "metadata": {},
   "outputs": [
    {
     "data": {
      "text/plain": [
       "False"
      ]
     },
     "execution_count": 5,
     "metadata": {},
     "output_type": "execute_result"
    }
   ],
   "source": [
    "file.isnull().values.any()"
   ]
  },
  {
   "cell_type": "code",
   "execution_count": 6,
   "metadata": {},
   "outputs": [
    {
     "name": "stdout",
     "output_type": "stream",
     "text": [
      "(768, 6)\n",
      "(193, 6)\n",
      "333    1\n",
      "589    1\n",
      "780    0\n",
      "759    1\n",
      "27     0\n",
      "Name: Severity, dtype: int64\n"
     ]
    },
    {
     "name": "stderr",
     "output_type": "stream",
     "text": [
      "C:\\Anaconda3\\lib\\site-packages\\sklearn\\cross_validation.py:44: DeprecationWarning: This module was deprecated in version 0.18 in favor of the model_selection module into which all the refactored classes and functions are moved. Also note that the interface of the new CV iterators are different from that of this module. This module will be removed in 0.20.\n",
      "  \"This module will be removed in 0.20.\", DeprecationWarning)\n"
     ]
    }
   ],
   "source": [
    "from sklearn.cross_validation import train_test_split\n",
    "train, test = train_test_split(file,test_size=0.2)\n",
    "features_train=train[['BI-RADS','Age','Shape','Margin','Density']]\n",
    "features_test = test[['BI-RADS','Age','Shape','Margin','Density']]\n",
    "labels_train = train.Severity\n",
    "labels_test = test.Severity\n",
    "print(train.shape)\n",
    "print(test.shape)\n",
    "print(labels_test.head())"
   ]
  },
  {
   "cell_type": "code",
   "execution_count": 7,
   "metadata": {},
   "outputs": [
    {
     "name": "stdout",
     "output_type": "stream",
     "text": [
      "Accuracy: 0.80829015544\n",
      "Accuracy: 0.823834196891\n",
      "Accuracy: 0.80829015544\n",
      "Accuracy: 0.818652849741\n",
      "Accuracy: 0.823834196891\n",
      "Accuracy: 0.735751295337\n",
      "Accuracy: 0.787564766839\n",
      "Accuracy: 0.725388601036\n",
      "Accuracy: 0.735751295337\n",
      "Accuracy: 0.782383419689\n",
      "Accuracy: 0.683937823834\n"
     ]
    }
   ],
   "source": [
    "from sklearn.tree import DecisionTreeClassifier\n",
    "from sklearn.ensemble import RandomForestClassifier, AdaBoostClassifier\n",
    "from sklearn.naive_bayes import GaussianNB\n",
    "from sklearn.neighbors import KNeighborsClassifier\n",
    "from sklearn.svm import SVC\n",
    "names = ['GaussianNB','SVM Linear','SVM Rbf','SVM Poly','SVM Linear C','SVM Rbf C','SVM Poly C','Decision tree','Decision tree with minsample','k neighbors','k neighbors with n']\n",
    "classifiers = [GaussianNB(),\n",
    "               SVC(kernel=\"linear\"),\n",
    "               SVC(kernel=\"rbf\"),\n",
    "               SVC(kernel=\"poly\"),\n",
    "               SVC(kernel=\"linear\", C=1000),\n",
    "               SVC(kernel=\"rbf\", C=1000),\n",
    "               SVC(kernel=\"poly\", C=1000),\n",
    "               DecisionTreeClassifier(),\n",
    "               DecisionTreeClassifier(min_samples_split=5),\n",
    "               KNeighborsClassifier(),\n",
    "               KNeighborsClassifier(n_neighbors=2),\n",
    "               AdaBoostClassifier(),\n",
    "               RandomForestClassifier()]\n",
    "for name,clf in zip(names,classifiers):\n",
    "    clf.fit(features_train,labels_train)\n",
    "    print(\"Accuracy:\",clf.score(features_test,labels_test))"
   ]
  },
  {
   "cell_type": "code",
   "execution_count": null,
   "metadata": {
    "collapsed": true
   },
   "outputs": [],
   "source": []
  }
 ],
 "metadata": {
  "kernelspec": {
   "display_name": "Python 3",
   "language": "python",
   "name": "python3"
  },
  "language_info": {
   "codemirror_mode": {
    "name": "ipython",
    "version": 3
   },
   "file_extension": ".py",
   "mimetype": "text/x-python",
   "name": "python",
   "nbconvert_exporter": "python",
   "pygments_lexer": "ipython3",
   "version": "3.6.1"
  }
 },
 "nbformat": 4,
 "nbformat_minor": 2
}
