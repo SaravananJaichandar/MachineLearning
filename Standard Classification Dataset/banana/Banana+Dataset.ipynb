{
 "cells": [
  {
   "cell_type": "markdown",
   "metadata": {},
   "source": [
    "                                Machine Learning with 2 feature Banana DataSet"
   ]
  },
  {
   "cell_type": "markdown",
   "metadata": {},
   "source": [
    "Importing Neccessary Packages and reading the csv file and printing the head of the csv file."
   ]
  },
  {
   "cell_type": "code",
   "execution_count": 12,
   "metadata": {},
   "outputs": [
    {
     "name": "stdout",
     "output_type": "stream",
     "text": [
      "     At1    At2  Class\n",
      "0  1.140 -0.114     -1\n",
      "1 -1.520 -1.150      1\n",
      "2 -1.050  0.720     -1\n",
      "3 -0.916  0.397      1\n",
      "4 -1.090  0.437      1\n",
      "(5300, 3)\n"
     ]
    }
   ],
   "source": [
    "import pandas as pd\n",
    "import numpy as np\n",
    "open_file = pd.read_csv(\"banana.csv\",sep=\",\")\n",
    "print(open_file.head())\n",
    "print(open_file.shape)"
   ]
  },
  {
   "cell_type": "markdown",
   "metadata": {},
   "source": [
    "Checking whether any column in the dataset contains NaN values."
   ]
  },
  {
   "cell_type": "code",
   "execution_count": 13,
   "metadata": {},
   "outputs": [
    {
     "name": "stdout",
     "output_type": "stream",
     "text": [
      "False\n"
     ]
    }
   ],
   "source": [
    "print(open_file.isnull().values.any())"
   ]
  },
  {
   "cell_type": "markdown",
   "metadata": {},
   "source": [
    "Computing the Basic Statistics(Descriptive) of the features in the dataset."
   ]
  },
  {
   "cell_type": "code",
   "execution_count": 15,
   "metadata": {},
   "outputs": [
    {
     "name": "stdout",
     "output_type": "stream",
     "text": [
      "               At1          At2        Class\n",
      "count  5300.000000  5300.000000  5300.000000\n",
      "mean      0.000016     0.000018    -0.103396\n",
      "std       0.999880     1.000038     0.994734\n",
      "min      -3.090000    -2.390000    -1.000000\n",
      "25%      -0.753250    -0.914000    -1.000000\n",
      "50%      -0.015250    -0.037200    -1.000000\n",
      "75%       0.782000     0.822500     1.000000\n",
      "max       2.810000     3.190000     1.000000\n"
     ]
    }
   ],
   "source": [
    "print(open_file.describe())"
   ]
  },
  {
   "cell_type": "markdown",
   "metadata": {},
   "source": [
    "Now, Using Matplotlib library plotting the two features in the Scatter plot"
   ]
  },
  {
   "cell_type": "code",
   "execution_count": 18,
   "metadata": {},
   "outputs": [
    {
     "data": {
      "image/png": "[encoded data removed]",
      "text/plain": [
       "<matplotlib.figure.Figure at 0x2351ef49780>"
      ]
     },
     "metadata": {},
     "output_type": "display_data"
    }
   ],
   "source": [
    "import matplotlib.pyplot as plt\n",
    "plt.scatter(open_file['At1'],open_file['At2'])\n",
    "plt.show()"
   ]
  },
  {
   "cell_type": "markdown",
   "metadata": {},
   "source": [
    "Now, Subsetting the dataset by removing the \"Class\" feature the from the original dataset."
   ]
  },
  {
   "cell_type": "code",
   "execution_count": 19,
   "metadata": {},
   "outputs": [
    {
     "name": "stdout",
     "output_type": "stream",
     "text": [
      "         At1      At2\n",
      "0     1.1400 -0.11400\n",
      "1    -1.5200 -1.15000\n",
      "2    -1.0500  0.72000\n",
      "3    -0.9160  0.39700\n",
      "4    -1.0900  0.43700\n",
      "5    -0.5840  0.09370\n",
      "6     1.8300  0.45200\n",
      "7    -1.2500 -0.28600\n",
      "8     1.7000  1.21000\n",
      "9    -0.4820 -0.48500\n",
      "10    1.7900 -0.45900\n",
      "11   -0.1220 -0.80800\n",
      "12    0.0809  1.93000\n",
      "13   -0.5410 -0.33200\n",
      "14   -1.0200  0.61900\n",
      "15   -0.7680 -1.04000\n",
      "16   -1.6900 -0.04610\n",
      "17    1.2600  1.21000\n",
      "18    0.7240  0.98900\n",
      "19    0.4440  1.99000\n",
      "20   -1.0100 -1.36000\n",
      "21   -0.8630  0.49600\n",
      "22    1.1600 -0.45800\n",
      "23   -0.5950 -0.65100\n",
      "24   -0.7700  0.36400\n",
      "25   -0.8710 -0.82500\n",
      "26    0.9960 -1.70000\n",
      "27    1.2800  0.69100\n",
      "28    0.9250  0.89500\n",
      "29   -0.6870 -1.29000\n",
      "...      ...      ...\n",
      "5270  0.8010 -0.63900\n",
      "5271  0.7620  0.12500\n",
      "5272  0.0343 -1.18000\n",
      "5273  0.5240 -0.23100\n",
      "5274 -0.0262 -1.18000\n",
      "5275 -1.4700 -0.03580\n",
      "5276  1.2900  0.15200\n",
      "5277 -0.8510  0.18900\n",
      "5278 -0.9610  1.00000\n",
      "5279 -0.7760  0.12700\n",
      "5280 -0.6740 -0.62000\n",
      "5281  0.2440 -0.69000\n",
      "5282 -0.9740  0.51100\n",
      "5283  0.3700  1.03000\n",
      "5284 -1.9800 -0.88000\n",
      "5285  0.3080  0.11700\n",
      "5286 -1.6200  0.46800\n",
      "5287 -0.8430 -1.08000\n",
      "5288  1.0000  1.17000\n",
      "5289 -0.9540  0.68700\n",
      "5290  0.7680 -0.96600\n",
      "5291  1.6400  1.12000\n",
      "5292 -1.7000 -0.55400\n",
      "5293  0.4040  0.00999\n",
      "5294  0.7040 -0.90600\n",
      "5295  0.3350  1.39000\n",
      "5296 -1.7000 -0.56900\n",
      "5297  2.6400  1.14000\n",
      "5298  0.7690  0.77200\n",
      "5299 -0.2550 -0.14200\n",
      "\n",
      "[5300 rows x 2 columns]\n"
     ]
    }
   ],
   "source": [
    "file = open_file[['At1','At2']]\n",
    "print(file)"
   ]
  },
  {
   "cell_type": "markdown",
   "metadata": {},
   "source": [
    "Now, Plotting the two features in the correlation matrix"
   ]
  },
  {
   "cell_type": "code",
   "execution_count": 32,
   "metadata": {},
   "outputs": [
    {
     "data": {
      "image/png": "[encoded data removed]",
      "text/plain": [
       "<matplotlib.figure.Figure at 0x23520bb8908>"
      ]
     },
     "metadata": {},
     "output_type": "display_data"
    }
   ],
   "source": [
    "correlation = file.corr()\n",
    "fig = plt.figure()\n",
    "ax = fig.add_subplot(111)\n",
    "cax = ax.matshow(correlation, vmin=-1, vmax=1)\n",
    "fig.colorbar(cax)\n",
    "names=[\"At1\",\"At2\"]\n",
    "ticks = np.arange(0,2,1)\n",
    "ax.set_xticks(ticks)\n",
    "ax.set_yticks(ticks)\n",
    "ax.set_xticklabels(names)\n",
    "ax.set_yticklabels(names)\n",
    "plt.show()"
   ]
  },
  {
   "cell_type": "markdown",
   "metadata": {},
   "source": [
    "Now using the sklearn library, we import train_test_test from cross validation and split the original dataset into training and test dataset(70,30)."
   ]
  },
  {
   "cell_type": "code",
   "execution_count": 34,
   "metadata": {},
   "outputs": [
    {
     "name": "stdout",
     "output_type": "stream",
     "text": [
      "3738   -1\n",
      "3303    1\n",
      "346     1\n",
      "2907   -1\n",
      "3894   -1\n",
      "Name: Class, dtype: int64\n",
      "(3710, 3)\n",
      "(1590, 3)\n"
     ]
    }
   ],
   "source": [
    "from sklearn.cross_validation import train_test_split\n",
    "train,test = train_test_split(open_file,test_size=0.3)\n",
    "features_train = train[['At1','At2']]\n",
    "features_test = test[['At1','At2']]\n",
    "labels_train = train.Class\n",
    "labels_test = test.Class\n",
    "print(labels_test.head())\n",
    "print(train.shape)\n",
    "print(test.shape)"
   ]
  },
  {
   "cell_type": "markdown",
   "metadata": {},
   "source": [
    "Now, we can use our machine learning algorithm to play around with training and test data set. We begin with \"Naive Bayes - Gaussian\" classifier."
   ]
  },
  {
   "cell_type": "code",
   "execution_count": 36,
   "metadata": {},
   "outputs": [
    {
     "name": "stdout",
     "output_type": "stream",
     "text": [
      "[-1  1  1 ..., -1  1 -1]\n",
      "Accuracy: 0.620754716981\n"
     ]
    }
   ],
   "source": [
    "from sklearn.naive_bayes import GaussianNB\n",
    "clf = GaussianNB()\n",
    "training = clf.fit(features_train,labels_train)\n",
    "predictions = clf.predict(features_test)\n",
    "print(predictions)\n",
    "print(\"Accuracy:\",clf.score(features_test,labels_test))"
   ]
  },
  {
   "cell_type": "markdown",
   "metadata": {},
   "source": [
    "Now, Using our second classifier as \"Support Vector Machine\" with kernel=\"rbf\"."
   ]
  },
  {
   "cell_type": "code",
   "execution_count": 48,
   "metadata": {},
   "outputs": [
    {
     "name": "stdout",
     "output_type": "stream",
     "text": [
      "[-1  1  1 ..., -1  1 -1]\n",
      "Accuracy: 0.894339622642\n"
     ]
    }
   ],
   "source": [
    "from sklearn import svm\n",
    "clf = svm.SVC(kernel='rbf')\n",
    "training = clf.fit(features_train,labels_train)\n",
    "predictions = clf.predict(features_test)\n",
    "print(predictions)\n",
    "print(\"Accuracy:\",clf.score(features_test,labels_test))"
   ]
  },
  {
   "cell_type": "markdown",
   "metadata": {},
   "source": [
    "\"Support Vector Machine\" with kernel=\"linear\"."
   ]
  },
  {
   "cell_type": "code",
   "execution_count": 47,
   "metadata": {},
   "outputs": [
    {
     "name": "stdout",
     "output_type": "stream",
     "text": [
      "[-1 -1 -1 ..., -1 -1 -1]\n",
      "Accuracy: 0.577358490566\n"
     ]
    }
   ],
   "source": [
    "from sklearn import svm\n",
    "clf = svm.SVC(kernel='linear')\n",
    "training = clf.fit(features_train,labels_train)\n",
    "predictions = clf.predict(features_test)\n",
    "print(predictions)\n",
    "print(\"Accuracy:\",clf.score(features_test,labels_test))"
   ]
  },
  {
   "cell_type": "markdown",
   "metadata": {},
   "source": [
    "Now, Using our third classifier as \"DecisionTreeClassifier\""
   ]
  },
  {
   "cell_type": "code",
   "execution_count": 42,
   "metadata": {},
   "outputs": [
    {
     "name": "stdout",
     "output_type": "stream",
     "text": [
      "[-1  1  1 ..., -1  1 -1]\n",
      "Accuracy: 0.876100628931\n"
     ]
    }
   ],
   "source": [
    "from sklearn import tree\n",
    "clf = tree.DecisionTreeClassifier()\n",
    "training = clf.fit(features_train,labels_train)\n",
    "predictions = clf.predict(features_test)\n",
    "print(predictions)\n",
    "print(\"Accuracy:\",clf.score(features_test,labels_test))"
   ]
  },
  {
   "cell_type": "markdown",
   "metadata": {},
   "source": [
    "\"Support Vector Machine\" with kernel=\"poly\"."
   ]
  },
  {
   "cell_type": "code",
   "execution_count": 43,
   "metadata": {},
   "outputs": [
    {
     "name": "stdout",
     "output_type": "stream",
     "text": [
      "[-1  1  1 ..., -1  1 -1]\n",
      "Accuracy: 0.664150943396\n"
     ]
    }
   ],
   "source": [
    "from sklearn import svm\n",
    "clf = svm.SVC(kernel = 'poly')\n",
    "training = clf.fit(features_train,labels_train)\n",
    "predictions = clf.predict(features_test)\n",
    "print(predictions)\n",
    "print(\"Accuracy:\",clf.score(features_test,labels_test))"
   ]
  },
  {
   "cell_type": "markdown",
   "metadata": {},
   "source": [
    "Now, Using our fourth classifier as \"KNeighborsClassifier\""
   ]
  },
  {
   "cell_type": "code",
   "execution_count": 44,
   "metadata": {},
   "outputs": [
    {
     "name": "stdout",
     "output_type": "stream",
     "text": [
      "[-1  1  1 ..., -1  1 -1]\n",
      "Accuracy: 0.888679245283\n"
     ]
    }
   ],
   "source": [
    "from sklearn.neighbors import KNeighborsClassifier\n",
    "clf = KNeighborsClassifier()\n",
    "training = clf.fit(features_train,labels_train)\n",
    "predictions = clf.predict(features_test)\n",
    "print(predictions)\n",
    "print(\"Accuracy:\",clf.score(features_test,labels_test))"
   ]
  },
  {
   "cell_type": "markdown",
   "metadata": {},
   "source": [
    "\"Support Vector Machine\" with kernel=\"rbf\" with C."
   ]
  },
  {
   "cell_type": "code",
   "execution_count": 49,
   "metadata": {},
   "outputs": [
    {
     "name": "stdout",
     "output_type": "stream",
     "text": [
      "[-1  1  1 ..., -1  1 -1]\n",
      "Accuracy: 0.891823899371\n"
     ]
    }
   ],
   "source": [
    "from sklearn import svm\n",
    "clf = svm.SVC(kernel='rbf',C=10000)\n",
    "training = clf.fit(features_train,labels_train)\n",
    "predictions = clf.predict(features_test)\n",
    "print(predictions)\n",
    "print(\"Accuracy:\",clf.score(features_test,labels_test))"
   ]
  },
  {
   "cell_type": "markdown",
   "metadata": {},
   "source": [
    "\"Support Vector Machine\" with kernel=\"linear\" with C."
   ]
  },
  {
   "cell_type": "code",
   "execution_count": 52,
   "metadata": {},
   "outputs": [
    {
     "name": "stdout",
     "output_type": "stream",
     "text": [
      "[-1 -1 -1 ..., -1 -1 -1]\n",
      "Accuracy: 0.577358490566\n"
     ]
    }
   ],
   "source": [
    "from sklearn import svm\n",
    "clf = svm.SVC(kernel='linear',C=1000)\n",
    "training = clf.fit(features_train,labels_train)\n",
    "predictions = clf.predict(features_test)\n",
    "print(predictions)\n",
    "print(\"Accuracy:\",clf.score(features_test,labels_test))"
   ]
  },
  {
   "cell_type": "markdown",
   "metadata": {},
   "source": [
    "\"Support Vector Machine\" with kernel=\"poly\" with C."
   ]
  },
  {
   "cell_type": "code",
   "execution_count": 51,
   "metadata": {},
   "outputs": [
    {
     "name": "stdout",
     "output_type": "stream",
     "text": [
      "[-1  1  1 ..., -1  1 -1]\n",
      "Accuracy: 0.664150943396\n"
     ]
    }
   ],
   "source": [
    "from sklearn import svm\n",
    "clf = svm.SVC(kernel = 'poly',C=1000)\n",
    "training = clf.fit(features_train,labels_train)\n",
    "predictions = clf.predict(features_test)\n",
    "print(predictions)\n",
    "print(\"Accuracy:\",clf.score(features_test,labels_test))"
   ]
  },
  {
   "cell_type": "markdown",
   "metadata": {},
   "source": [
    "\"DecisionTreeClassifier\" with min_samples_split."
   ]
  },
  {
   "cell_type": "code",
   "execution_count": 68,
   "metadata": {},
   "outputs": [
    {
     "name": "stdout",
     "output_type": "stream",
     "text": [
      "[-1  1  1 ..., -1  1 -1]\n",
      "Accuracy: 0.879245283019\n"
     ]
    }
   ],
   "source": [
    "from sklearn import tree\n",
    "clf = tree.DecisionTreeClassifier(min_samples_split=3)\n",
    "training = clf.fit(features_train,labels_train)\n",
    "predictions = clf.predict(features_test)\n",
    "print(predictions)\n",
    "print(\"Accuracy:\",clf.score(features_test,labels_test))"
   ]
  },
  {
   "cell_type": "markdown",
   "metadata": {},
   "source": [
    "\"KNeighborsClassifier\" with n_neighbors."
   ]
  },
  {
   "cell_type": "code",
   "execution_count": 75,
   "metadata": {},
   "outputs": [
    {
     "name": "stdout",
     "output_type": "stream",
     "text": [
      "[-1  1  1 ..., -1  1 -1]\n",
      "Accuracy: 0.890566037736\n"
     ]
    }
   ],
   "source": [
    "from sklearn.neighbors import KNeighborsClassifier\n",
    "clf = KNeighborsClassifier(n_neighbors=4)\n",
    "training = clf.fit(features_train,labels_train)\n",
    "predictions = clf.predict(features_test)\n",
    "print(predictions)\n",
    "print(\"Accuracy:\",clf.score(features_test,labels_test))"
   ]
  },
  {
   "cell_type": "markdown",
   "metadata": {},
   "source": [
    "\"AdaBoostClassifier\""
   ]
  },
  {
   "cell_type": "code",
   "execution_count": 92,
   "metadata": {},
   "outputs": [
    {
     "name": "stdout",
     "output_type": "stream",
     "text": [
      "Accuracy: 0.727044025157\n"
     ]
    }
   ],
   "source": [
    "from sklearn.ensemble import AdaBoostClassifier\n",
    "from sklearn.tree import DecisionTreeClassifier\n",
    "clf = AdaBoostClassifier()\n",
    "boosted = clf.fit(features_train,labels_train)\n",
    "prediction = clf.score(features_test,labels_test)\n",
    "print(\"Accuracy:\",prediction)\n"
   ]
  },
  {
   "cell_type": "markdown",
   "metadata": {},
   "source": [
    "\"GradientBoostingClassifier\""
   ]
  },
  {
   "cell_type": "code",
   "execution_count": 93,
   "metadata": {},
   "outputs": [
    {
     "name": "stdout",
     "output_type": "stream",
     "text": [
      "Accuracy: 0.887421383648\n"
     ]
    }
   ],
   "source": [
    "from sklearn.ensemble import GradientBoostingClassifier\n",
    "clf = GradientBoostingClassifier()\n",
    "boosted = clf.fit(features_train,labels_train)\n",
    "prediction = clf.score(features_test,labels_test)\n",
    "print(\"Accuracy:\",prediction)\n"
   ]
  },
  {
   "cell_type": "markdown",
   "metadata": {},
   "source": [
    "\"BaggingClassifier\""
   ]
  },
  {
   "cell_type": "code",
   "execution_count": 99,
   "metadata": {},
   "outputs": [
    {
     "name": "stdout",
     "output_type": "stream",
     "text": [
      "Accuracy: 0.891823899371\n"
     ]
    }
   ],
   "source": [
    "from sklearn.ensemble import BaggingClassifier\n",
    "clf = BaggingClassifier(n_estimators=100, random_state=7)\n",
    "boosted = clf.fit(features_train,labels_train)\n",
    "prediction = clf.score(features_test,labels_test)\n",
    "print(\"Accuracy:\",prediction)"
   ]
  },
  {
   "cell_type": "markdown",
   "metadata": {},
   "source": [
    "\"RandomForestClassifier\""
   ]
  },
  {
   "cell_type": "code",
   "execution_count": 102,
   "metadata": {},
   "outputs": [
    {
     "name": "stdout",
     "output_type": "stream",
     "text": [
      "Accuracy: 0.891823899371\n"
     ]
    }
   ],
   "source": [
    "from sklearn.ensemble import RandomForestClassifier\n",
    "clf = RandomForestClassifier(n_estimators=100, random_state=7)\n",
    "boosted = clf.fit(features_train,labels_train)\n",
    "prediction = clf.score(features_test,labels_test)\n",
    "print(\"Accuracy:\",prediction)"
   ]
  },
  {
   "cell_type": "code",
   "execution_count": null,
   "metadata": {
    "collapsed": true
   },
   "outputs": [],
   "source": []
  }
 ],
 "metadata": {
  "kernelspec": {
   "display_name": "Python 3",
   "language": "python",
   "name": "python3"
  },
  "language_info": {
   "codemirror_mode": {
    "name": "ipython",
    "version": 3
   },
   "file_extension": ".py",
   "mimetype": "text/x-python",
   "name": "python",
   "nbconvert_exporter": "python",
   "pygments_lexer": "ipython3",
   "version": "3.6.1"
  }
 },
 "nbformat": 4,
 "nbformat_minor": 2
}
