{
 "cells": [
  {
   "cell_type": "code",
   "execution_count": 1,
   "metadata": {},
   "outputs": [
    {
     "name": "stdout",
     "output_type": "stream",
     "text": [
      "   Hair  Feathers  Eggs  Milk  Airborne  Aquatic  Predator  Toothed  Backbone  \\\n",
      "0   NaN       NaN   NaN   NaN       NaN      NaN       NaN      NaN       NaN   \n",
      "1   NaN       NaN   NaN   NaN       NaN      NaN       NaN      NaN       NaN   \n",
      "2   1.0       0.0   0.0   1.0       0.0      0.0       1.0      1.0       1.0   \n",
      "3   1.0       0.0   0.0   1.0       0.0      1.0       1.0      1.0       1.0   \n",
      "4   1.0       0.0   0.0   1.0       0.0      0.0       1.0      1.0       1.0   \n",
      "\n",
      "   Breathes  Venomous  Fins  Legs  Tail  Domestic  Catsize  Type  \n",
      "0       NaN       NaN   NaN   NaN   NaN       NaN      NaN   NaN  \n",
      "1       NaN       NaN   NaN   NaN   NaN       NaN      NaN   NaN  \n",
      "2       1.0       0.0   0.0   4.0   1.0       0.0      1.0   1.0  \n",
      "3       1.0       0.0   1.0   2.0   1.0       0.0      1.0   1.0  \n",
      "4       1.0       0.0   0.0   4.0   1.0       0.0      0.0   1.0  \n",
      "(103, 17)\n"
     ]
    }
   ],
   "source": [
    "import pandas as pd\n",
    "import numpy as np\n",
    "file = pd.read_csv(\"zoo.csv\")\n",
    "print(file.head())\n",
    "print(file.shape)"
   ]
  },
  {
   "cell_type": "code",
   "execution_count": 2,
   "metadata": {},
   "outputs": [
    {
     "name": "stdout",
     "output_type": "stream",
     "text": [
      "None\n",
      "     Hair  Feathers  Eggs  Milk  Airborne  Aquatic  Predator  Toothed  \\\n",
      "0     1.0       0.0   0.0   1.0       0.0      0.0       1.0      1.0   \n",
      "1     1.0       0.0   0.0   1.0       0.0      1.0       1.0      1.0   \n",
      "2     1.0       0.0   0.0   1.0       0.0      0.0       1.0      1.0   \n",
      "3     1.0       0.0   0.0   1.0       0.0      0.0       0.0      1.0   \n",
      "4     0.0       0.0   1.0   0.0       0.0      1.0       1.0      1.0   \n",
      "5     0.0       0.0   1.0   0.0       0.0      0.0       0.0      0.0   \n",
      "6     0.0       1.0   1.0   0.0       1.0      0.0       0.0      0.0   \n",
      "7     0.0       1.0   1.0   0.0       1.0      1.0       1.0      0.0   \n",
      "8     0.0       0.0   1.0   0.0       0.0      1.0       1.0      1.0   \n",
      "9     1.0       0.0   0.0   1.0       0.0      0.0       1.0      1.0   \n",
      "10    1.0       0.0   0.0   1.0       0.0      1.0       1.0      1.0   \n",
      "11    1.0       0.0   1.0   1.0       0.0      1.0       1.0      0.0   \n",
      "12    1.0       0.0   0.0   1.0       0.0      0.0       0.0      1.0   \n",
      "13    0.0       0.0   1.0   0.0       0.0      1.0       0.0      1.0   \n",
      "14    0.0       0.0   1.0   0.0       0.0      1.0       1.0      0.0   \n",
      "15    0.0       1.0   1.0   0.0       1.0      1.0       0.0      0.0   \n",
      "16    0.0       1.0   1.0   0.0       1.0      0.0       0.0      0.0   \n",
      "17    1.0       0.0   0.0   1.0       0.0      0.0       1.0      1.0   \n",
      "18    1.0       0.0   0.0   1.0       0.0      0.0       0.0      1.0   \n",
      "19    1.0       0.0   0.0   1.0       0.0      0.0       1.0      1.0   \n",
      "20    1.0       0.0   0.0   1.0       0.0      0.0       1.0      1.0   \n",
      "21    0.0       0.0   1.0   0.0       0.0      1.0       1.0      1.0   \n",
      "22    0.0       0.0   1.0   0.0       0.0      0.0       0.0      0.0   \n",
      "23    0.0       1.0   1.0   0.0       1.0      1.0       1.0      0.0   \n",
      "24    0.0       1.0   1.0   0.0       1.0      0.0       1.0      0.0   \n",
      "25    1.0       0.0   0.0   1.0       0.0      0.0       1.0      1.0   \n",
      "26    1.0       0.0   0.0   1.0       0.0      0.0       0.0      1.0   \n",
      "27    1.0       0.0   0.0   1.0       0.0      0.0       1.0      1.0   \n",
      "28    1.0       0.0   0.0   1.0       0.0      0.0       1.0      1.0   \n",
      "29    0.0       0.0   1.0   0.0       0.0      1.0       1.0      1.0   \n",
      "..    ...       ...   ...   ...       ...      ...       ...      ...   \n",
      "71    1.0       0.0   0.0   1.0       0.0      0.0       1.0      1.0   \n",
      "72    1.0       0.0   0.0   1.0       0.0      0.0       0.0      1.0   \n",
      "73    0.0       0.0   1.0   0.0       0.0      1.0       0.0      1.0   \n",
      "74    0.0       0.0   1.0   0.0       0.0      0.0       1.0      0.0   \n",
      "75    0.0       1.0   1.0   0.0       1.0      0.0       0.0      0.0   \n",
      "76    0.0       1.0   1.0   0.0       1.0      1.0       0.0      0.0   \n",
      "77    1.0       0.0   0.0   1.0       0.0      1.0       1.0      1.0   \n",
      "78    1.0       0.0   0.0   1.0       0.0      0.0       1.0      1.0   \n",
      "79    1.0       0.0   0.0   1.0       0.0      0.0       0.0      1.0   \n",
      "80    1.0       0.0   0.0   1.0       0.0      0.0       0.0      1.0   \n",
      "81    0.0       0.0   1.0   0.0       0.0      1.0       0.0      1.0   \n",
      "82    0.0       0.0   1.0   0.0       0.0      1.0       1.0      0.0   \n",
      "83    0.0       1.0   1.0   0.0       0.0      0.0       0.0      0.0   \n",
      "84    0.0       1.0   1.0   0.0       1.0      0.0       0.0      0.0   \n",
      "85    1.0       0.0   1.0   0.0       1.0      0.0       0.0      0.0   \n",
      "86    1.0       0.0   1.0   0.0       1.0      0.0       0.0      0.0   \n",
      "87    0.0       0.0   1.0   0.0       0.0      0.0       1.0      1.0   \n",
      "88    0.0       0.0   1.0   0.0       0.0      1.0       0.0      1.0   \n",
      "89    0.0       0.0   0.0   1.0       0.0      1.0       1.0      1.0   \n",
      "90    1.0       0.0   0.0   1.0       0.0      0.0       1.0      1.0   \n",
      "91    1.0       0.0   0.0   1.0       1.0      0.0       0.0      1.0   \n",
      "92    1.0       0.0   0.0   1.0       0.0      0.0       0.0      1.0   \n",
      "93    0.0       0.0   1.0   0.0       0.0      1.0       1.0      1.0   \n",
      "94    0.0       0.0   1.0   0.0       0.0      1.0       1.0      0.0   \n",
      "95    0.0       1.0   1.0   0.0       1.0      0.0       0.0      0.0   \n",
      "96    0.0       1.0   1.0   0.0       1.0      1.0       1.0      0.0   \n",
      "97    0.0       0.0   1.0   0.0       1.0      0.0       0.0      0.0   \n",
      "98    1.0       0.0   1.0   0.0       1.0      0.0       0.0      0.0   \n",
      "99    0.0       0.0   1.0   0.0       0.0      1.0       1.0      1.0   \n",
      "100   0.0       0.0   1.0   0.0       0.0      1.0       1.0      1.0   \n",
      "\n",
      "     Backbone  Breathes  Venomous  Fins  Legs  Tail  Domestic  Catsize  Type  \n",
      "0         1.0       1.0       0.0   0.0   4.0   1.0       0.0      1.0   1.0  \n",
      "1         1.0       1.0       0.0   1.0   2.0   1.0       0.0      1.0   1.0  \n",
      "2         1.0       1.0       0.0   0.0   4.0   1.0       0.0      0.0   1.0  \n",
      "3         1.0       1.0       0.0   0.0   4.0   1.0       0.0      1.0   1.0  \n",
      "4         1.0       0.0       0.0   1.0   0.0   1.0       0.0      0.0   4.0  \n",
      "5         0.0       1.0       0.0   0.0   0.0   0.0       0.0      0.0   7.0  \n",
      "6         1.0       1.0       0.0   0.0   2.0   1.0       1.0      0.0   2.0  \n",
      "7         1.0       1.0       0.0   0.0   2.0   1.0       0.0      0.0   2.0  \n",
      "8         1.0       0.0       0.0   1.0   0.0   1.0       0.0      1.0   4.0  \n",
      "9         1.0       1.0       0.0   0.0   4.0   1.0       0.0      1.0   1.0  \n",
      "10        1.0       1.0       0.0   1.0   0.0   0.0       0.0      1.0   1.0  \n",
      "11        1.0       1.0       0.0   0.0   4.0   1.0       0.0      1.0   1.0  \n",
      "12        1.0       1.0       0.0   0.0   4.0   1.0       1.0      1.0   1.0  \n",
      "13        1.0       0.0       0.0   1.0   0.0   1.0       0.0      0.0   4.0  \n",
      "14        0.0       0.0       1.0   0.0   0.0   0.0       0.0      0.0   7.0  \n",
      "15        1.0       1.0       0.0   0.0   2.0   1.0       0.0      0.0   2.0  \n",
      "16        1.0       1.0       0.0   0.0   2.0   1.0       1.0      0.0   2.0  \n",
      "17        1.0       1.0       0.0   0.0   4.0   1.0       0.0      1.0   1.0  \n",
      "18        1.0       1.0       0.0   0.0   4.0   1.0       1.0      0.0   1.0  \n",
      "19        1.0       1.0       0.0   0.0   4.0   0.0       0.0      1.0   1.0  \n",
      "20        1.0       1.0       0.0   0.0   4.0   1.0       0.0      1.0   1.0  \n",
      "21        1.0       0.0       0.0   1.0   0.0   1.0       0.0      1.0   4.0  \n",
      "22        0.0       1.0       0.0   0.0   0.0   0.0       0.0      0.0   7.0  \n",
      "23        1.0       1.0       0.0   0.0   2.0   1.0       0.0      0.0   2.0  \n",
      "24        1.0       1.0       0.0   0.0   2.0   1.0       0.0      1.0   2.0  \n",
      "25        1.0       1.0       0.0   0.0   4.0   1.0       1.0      1.0   1.0  \n",
      "26        1.0       1.0       0.0   0.0   4.0   1.0       0.0      0.0   1.0  \n",
      "27        1.0       1.0       0.0   0.0   4.0   1.0       0.0      0.0   1.0  \n",
      "28        1.0       1.0       0.0   0.0   4.0   1.0       0.0      1.0   1.0  \n",
      "29        1.0       0.0       1.0   1.0   0.0   1.0       0.0      1.0   4.0  \n",
      "..        ...       ...       ...   ...   ...   ...       ...      ...   ...  \n",
      "71        1.0       1.0       0.0   0.0   4.0   1.0       0.0      1.0   1.0  \n",
      "72        1.0       1.0       0.0   0.0   4.0   0.0       1.0      0.0   1.0  \n",
      "73        1.0       0.0       0.0   1.0   0.0   1.0       0.0      0.0   4.0  \n",
      "74        0.0       0.0       0.0   0.0   0.0   0.0       0.0      0.0   7.0  \n",
      "75        1.0       1.0       0.0   0.0   2.0   1.0       1.0      0.0   2.0  \n",
      "76        1.0       1.0       0.0   0.0   2.0   1.0       0.0      1.0   2.0  \n",
      "77        1.0       1.0       0.0   0.0   4.0   1.0       0.0      1.0   1.0  \n",
      "78        1.0       1.0       0.0   0.0   4.0   1.0       0.0      1.0   1.0  \n",
      "79        1.0       1.0       0.0   0.0   4.0   1.0       0.0      1.0   1.0  \n",
      "80        1.0       1.0       0.0   0.0   4.0   1.0       1.0      1.0   1.0  \n",
      "81        1.0       0.0       0.0   1.0   0.0   1.0       0.0      0.0   4.0  \n",
      "82        0.0       0.0       0.0   0.0   6.0   0.0       0.0      0.0   7.0  \n",
      "83        1.0       1.0       0.0   0.0   2.0   1.0       0.0      1.0   2.0  \n",
      "84        1.0       1.0       0.0   0.0   2.0   1.0       0.0      0.0   2.0  \n",
      "85        0.0       1.0       1.0   0.0   6.0   0.0       1.0      0.0   6.0  \n",
      "86        0.0       1.0       0.0   0.0   6.0   0.0       0.0      0.0   6.0  \n",
      "87        1.0       1.0       1.0   0.0   0.0   1.0       0.0      0.0   3.0  \n",
      "88        1.0       1.0       0.0   0.0   4.0   0.0       0.0      0.0   5.0  \n",
      "89        1.0       1.0       0.0   1.0   0.0   1.0       0.0      1.0   1.0  \n",
      "90        1.0       1.0       0.0   0.0   4.0   1.0       0.0      1.0   1.0  \n",
      "91        1.0       1.0       0.0   0.0   2.0   1.0       0.0      0.0   1.0  \n",
      "92        1.0       1.0       0.0   0.0   4.0   1.0       1.0      1.0   1.0  \n",
      "93        1.0       0.0       0.0   1.0   0.0   1.0       0.0      0.0   4.0  \n",
      "94        0.0       0.0       0.0   0.0   6.0   0.0       0.0      0.0   7.0  \n",
      "95        1.0       1.0       0.0   0.0   2.0   1.0       0.0      0.0   2.0  \n",
      "96        1.0       1.0       0.0   0.0   2.0   1.0       0.0      0.0   2.0  \n",
      "97        0.0       1.0       0.0   0.0   6.0   0.0       0.0      0.0   6.0  \n",
      "98        0.0       1.0       0.0   0.0   6.0   0.0       0.0      0.0   6.0  \n",
      "99        1.0       1.0       1.0   0.0   4.0   0.0       0.0      0.0   5.0  \n",
      "100       1.0       1.0       0.0   0.0   4.0   1.0       0.0      0.0   5.0  \n",
      "\n",
      "[101 rows x 17 columns]\n"
     ]
    }
   ],
   "source": [
    "print(file.dropna(inplace=True))\n",
    "print(file.reset_index(drop=True))"
   ]
  },
  {
   "cell_type": "code",
   "execution_count": 3,
   "metadata": {},
   "outputs": [
    {
     "name": "stdout",
     "output_type": "stream",
     "text": [
      "94    1.0\n",
      "7     7.0\n",
      "72    1.0\n",
      "22    1.0\n",
      "24    7.0\n",
      "Name: Type, dtype: float64\n",
      "(80, 17)\n",
      "(21, 17)\n"
     ]
    },
    {
     "name": "stderr",
     "output_type": "stream",
     "text": [
      "C:\\Anaconda3\\lib\\site-packages\\sklearn\\cross_validation.py:44: DeprecationWarning: This module was deprecated in version 0.18 in favor of the model_selection module into which all the refactored classes and functions are moved. Also note that the interface of the new CV iterators are different from that of this module. This module will be removed in 0.20.\n",
      "  \"This module will be removed in 0.20.\", DeprecationWarning)\n"
     ]
    }
   ],
   "source": [
    "from sklearn.cross_validation import train_test_split\n",
    "train,test = train_test_split(file,test_size=0.2)\n",
    "features_train = train[['Hair','Feathers','Eggs','Milk','Airborne','Aquatic','Predator','Toothed','Backbone','Breathes','Venomous','Fins','Legs','Tail','Domestic','Catsize']]\n",
    "features_test = test[['Hair','Feathers','Eggs','Milk','Airborne','Aquatic','Predator','Toothed','Backbone','Breathes','Venomous','Fins','Legs','Tail','Domestic','Catsize']]\n",
    "labels_train = train.Type\n",
    "labels_test = test.Type\n",
    "print(labels_test.head())\n",
    "print(train.shape)\n",
    "print(test.shape)"
   ]
  },
  {
   "cell_type": "code",
   "execution_count": 4,
   "metadata": {},
   "outputs": [
    {
     "name": "stdout",
     "output_type": "stream",
     "text": [
      "[ 1.  7.  1.  1.  7.  1.  4.  4.  2.  1.  2.  1.  1.  2.  1.  4.  1.  6.\n",
      "  1.  5.  2.]\n",
      "Accuracy: 0.952380952381\n"
     ]
    }
   ],
   "source": [
    "from sklearn.naive_bayes import GaussianNB\n",
    "clf = GaussianNB()\n",
    "training = clf.fit(features_train,labels_train)\n",
    "predictions = clf.predict(features_test)\n",
    "print(predictions)\n",
    "print(\"Accuracy:\",clf.score(features_test,labels_test))"
   ]
  },
  {
   "cell_type": "code",
   "execution_count": 5,
   "metadata": {},
   "outputs": [
    {
     "name": "stdout",
     "output_type": "stream",
     "text": [
      "[ 1.  7.  1.  1.  7.  1.  4.  4.  2.  1.  2.  1.  1.  2.  4.  4.  1.  6.\n",
      "  1.  5.  2.]\n",
      "Accuracy: 0.904761904762\n"
     ]
    }
   ],
   "source": [
    "from sklearn import svm\n",
    "clf = svm.SVC(kernel='rbf')\n",
    "training = clf.fit(features_train,labels_train)\n",
    "predictions = clf.predict(features_test)\n",
    "print(predictions)\n",
    "print(\"Accuracy:\",clf.score(features_test,labels_test))"
   ]
  },
  {
   "cell_type": "code",
   "execution_count": 6,
   "metadata": {},
   "outputs": [
    {
     "name": "stdout",
     "output_type": "stream",
     "text": [
      "[ 1.  3.  1.  1.  3.  1.  4.  4.  2.  1.  2.  1.  1.  2.  1.  4.  1.  6.\n",
      "  1.  5.  2.]\n",
      "Accuracy: 0.857142857143\n"
     ]
    }
   ],
   "source": [
    "from sklearn import svm\n",
    "clf = svm.SVC(kernel='linear')\n",
    "training = clf.fit(features_train,labels_train)\n",
    "predictions = clf.predict(features_test)\n",
    "print(predictions)\n",
    "print(\"Accuracy:\",clf.score(features_test,labels_test))"
   ]
  },
  {
   "cell_type": "code",
   "execution_count": 7,
   "metadata": {},
   "outputs": [
    {
     "name": "stdout",
     "output_type": "stream",
     "text": [
      "[ 1.  4.  1.  1.  4.  4.  4.  4.  2.  1.  2.  1.  1.  2.  4.  4.  1.  6.\n",
      "  1.  5.  2.]\n",
      "Accuracy: 0.761904761905\n"
     ]
    }
   ],
   "source": [
    "from sklearn import svm\n",
    "clf = svm.SVC(kernel='poly')\n",
    "training = clf.fit(features_train,labels_train)\n",
    "predictions = clf.predict(features_test)\n",
    "print(predictions)\n",
    "print(\"Accuracy:\",clf.score(features_test,labels_test))"
   ]
  },
  {
   "cell_type": "code",
   "execution_count": 8,
   "metadata": {},
   "outputs": [
    {
     "name": "stdout",
     "output_type": "stream",
     "text": [
      "[ 1.  7.  1.  1.  7.  1.  4.  4.  2.  1.  2.  1.  1.  2.  1.  4.  1.  6.\n",
      "  1.  5.  2.]\n",
      "Accuracy: 0.952380952381\n"
     ]
    }
   ],
   "source": [
    "from sklearn import svm\n",
    "clf = svm.SVC(kernel='rbf',C=1000)\n",
    "training = clf.fit(features_train,labels_train)\n",
    "predictions = clf.predict(features_test)\n",
    "print(predictions)\n",
    "print(\"Accuracy:\",clf.score(features_test,labels_test))"
   ]
  },
  {
   "cell_type": "code",
   "execution_count": 9,
   "metadata": {},
   "outputs": [
    {
     "name": "stdout",
     "output_type": "stream",
     "text": [
      "[ 1.  3.  1.  1.  3.  1.  4.  4.  2.  1.  2.  1.  1.  2.  1.  4.  1.  6.\n",
      "  1.  5.  2.]\n",
      "Accuracy: 0.857142857143\n"
     ]
    }
   ],
   "source": [
    "from sklearn import svm\n",
    "clf = svm.SVC(kernel='linear',C=1000)\n",
    "training = clf.fit(features_train,labels_train)\n",
    "predictions = clf.predict(features_test)\n",
    "print(predictions)\n",
    "print(\"Accuracy:\",clf.score(features_test,labels_test))"
   ]
  },
  {
   "cell_type": "code",
   "execution_count": 10,
   "metadata": {},
   "outputs": [
    {
     "name": "stdout",
     "output_type": "stream",
     "text": [
      "[ 1.  7.  1.  1.  7.  1.  7.  4.  2.  1.  2.  1.  1.  2.  1.  4.  1.  6.\n",
      "  1.  5.  2.]\n",
      "Accuracy: 0.952380952381\n"
     ]
    }
   ],
   "source": [
    "from sklearn import svm\n",
    "clf = svm.SVC(kernel='poly',C=1000)\n",
    "training = clf.fit(features_train,labels_train)\n",
    "predictions = clf.predict(features_test)\n",
    "print(predictions)\n",
    "print(\"Accuracy:\",clf.score(features_test,labels_test))"
   ]
  },
  {
   "cell_type": "code",
   "execution_count": 11,
   "metadata": {},
   "outputs": [
    {
     "name": "stdout",
     "output_type": "stream",
     "text": [
      "[ 1.  6.  1.  1.  6.  1.  7.  4.  2.  1.  2.  1.  1.  2.  1.  4.  1.  6.\n",
      "  1.  5.  2.]\n",
      "Accuracy: 0.857142857143\n"
     ]
    }
   ],
   "source": [
    "from sklearn import tree\n",
    "clf = tree.DecisionTreeClassifier()\n",
    "training = clf.fit(features_train,labels_train)\n",
    "predictions = clf.predict(features_test)\n",
    "print(predictions)\n",
    "print(\"Accuracy:\",clf.score(features_test,labels_test))"
   ]
  },
  {
   "cell_type": "code",
   "execution_count": 13,
   "metadata": {},
   "outputs": [
    {
     "name": "stdout",
     "output_type": "stream",
     "text": [
      "[ 1.  3.  1.  1.  3.  1.  7.  4.  2.  1.  2.  1.  1.  2.  1.  4.  1.  6.\n",
      "  1.  5.  2.]\n",
      "Accuracy: 0.857142857143\n"
     ]
    }
   ],
   "source": [
    "from sklearn import tree\n",
    "clf = tree.DecisionTreeClassifier(min_samples_split=5)\n",
    "training = clf.fit(features_train,labels_train)\n",
    "predictions = clf.predict(features_test)\n",
    "print(predictions)\n",
    "print(\"Accuracy:\",clf.score(features_test,labels_test))"
   ]
  },
  {
   "cell_type": "code",
   "execution_count": 14,
   "metadata": {},
   "outputs": [
    {
     "name": "stdout",
     "output_type": "stream",
     "text": [
      "[ 1.  3.  1.  1.  3.  4.  4.  4.  2.  1.  2.  1.  1.  2.  4.  4.  1.  6.\n",
      "  1.  5.  2.]\n",
      "Accuracy: 0.761904761905\n"
     ]
    }
   ],
   "source": [
    "from sklearn.neighbors import KNeighborsClassifier\n",
    "clf = KNeighborsClassifier()\n",
    "training = clf.fit(features_train,labels_train)\n",
    "predictions = clf.predict(features_test)\n",
    "print(predictions)\n",
    "print(\"Accuracy:\",clf.score(features_test,labels_test))"
   ]
  },
  {
   "cell_type": "code",
   "execution_count": 26,
   "metadata": {},
   "outputs": [
    {
     "name": "stdout",
     "output_type": "stream",
     "text": [
      "[ 1.  7.  1.  1.  7.  1.  3.  4.  2.  1.  2.  1.  1.  2.  1.  4.  1.  6.\n",
      "  1.  5.  2.]\n",
      "Accuracy: 1.0\n"
     ]
    }
   ],
   "source": [
    "from sklearn.neighbors import KNeighborsClassifier\n",
    "clf = KNeighborsClassifier(n_neighbors=2)\n",
    "training = clf.fit(features_train,labels_train)\n",
    "predictions = clf.predict(features_test)\n",
    "print(predictions)\n",
    "print(\"Accuracy:\",clf.score(features_test,labels_test))"
   ]
  },
  {
   "cell_type": "code",
   "execution_count": 16,
   "metadata": {},
   "outputs": [
    {
     "name": "stdout",
     "output_type": "stream",
     "text": [
      "Accuracy: 0.761904761905\n"
     ]
    }
   ],
   "source": [
    "from sklearn.ensemble import AdaBoostClassifier\n",
    "from sklearn.tree import DecisionTreeClassifier\n",
    "clf = AdaBoostClassifier()\n",
    "boosted = clf.fit(features_train,labels_train)\n",
    "prediction = clf.score(features_test,labels_test)\n",
    "print(\"Accuracy:\",prediction)\n"
   ]
  },
  {
   "cell_type": "code",
   "execution_count": 17,
   "metadata": {},
   "outputs": [
    {
     "name": "stdout",
     "output_type": "stream",
     "text": [
      "Accuracy: 0.857142857143\n"
     ]
    }
   ],
   "source": [
    "from sklearn.ensemble import AdaBoostClassifier\n",
    "from sklearn.tree import DecisionTreeClassifier\n",
    "clf = AdaBoostClassifier(DecisionTreeClassifier())\n",
    "boosted = clf.fit(features_train,labels_train)\n",
    "prediction = clf.score(features_test,labels_test)\n",
    "print(\"Accuracy:\",prediction)"
   ]
  },
  {
   "cell_type": "code",
   "execution_count": 18,
   "metadata": {},
   "outputs": [
    {
     "name": "stdout",
     "output_type": "stream",
     "text": [
      "Accuracy: 0.857142857143\n"
     ]
    }
   ],
   "source": [
    "from sklearn.ensemble import GradientBoostingClassifier\n",
    "clf = GradientBoostingClassifier()\n",
    "boosted = clf.fit(features_train,labels_train)\n",
    "prediction = clf.score(features_test,labels_test)\n",
    "print(\"Accuracy:\",prediction)"
   ]
  },
  {
   "cell_type": "code",
   "execution_count": 19,
   "metadata": {},
   "outputs": [
    {
     "name": "stdout",
     "output_type": "stream",
     "text": [
      "Accuracy: 0.857142857143\n"
     ]
    }
   ],
   "source": [
    "from sklearn.ensemble import BaggingClassifier\n",
    "clf = BaggingClassifier(n_estimators=100, random_state=7)\n",
    "boosted = clf.fit(features_train,labels_train)\n",
    "prediction = clf.score(features_test,labels_test)\n",
    "print(\"Accuracy:\",prediction)"
   ]
  },
  {
   "cell_type": "code",
   "execution_count": 20,
   "metadata": {},
   "outputs": [
    {
     "name": "stdout",
     "output_type": "stream",
     "text": [
      "Accuracy: 0.857142857143\n"
     ]
    }
   ],
   "source": [
    "from sklearn.ensemble import RandomForestClassifier\n",
    "clf = RandomForestClassifier(n_estimators=100, random_state=7)\n",
    "boosted = clf.fit(features_train,labels_train)\n",
    "prediction = clf.score(features_test,labels_test)\n",
    "print(\"Accuracy:\",prediction)"
   ]
  },
  {
   "cell_type": "code",
   "execution_count": null,
   "metadata": {
    "collapsed": true
   },
   "outputs": [],
   "source": []
  }
 ],
 "metadata": {
  "kernelspec": {
   "display_name": "Python 3",
   "language": "python",
   "name": "python3"
  },
  "language_info": {
   "codemirror_mode": {
    "name": "ipython",
    "version": 3
   },
   "file_extension": ".py",
   "mimetype": "text/x-python",
   "name": "python",
   "nbconvert_exporter": "python",
   "pygments_lexer": "ipython3",
   "version": "3.6.1"
  }
 },
 "nbformat": 4,
 "nbformat_minor": 2
}
